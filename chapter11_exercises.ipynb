{
 "cells": [
  {
   "cell_type": "markdown",
   "metadata": {},
   "source": [
    "## Chapter 11\n",
    "### Programming Exercises\n",
    "#### Exercise 1 - Exployee and ProductionWorker Classes"
   ]
  },
  {
   "cell_type": "code",
   "execution_count": 20,
   "metadata": {},
   "outputs": [
    {
     "name": "stdout",
     "output_type": "stream",
     "text": [
      "You entered employee information:\n",
      "Name:  eric\n",
      "Number:  1111\n",
      "Shift:  Night\n",
      "Hourly Pay rate: $222\n"
     ]
    }
   ],
   "source": [
    "# Write an Employee class that keeps attributes and a ProductionWorker class that is a subclass of Employee and keeps specific attributes for that type of worker\n",
    "\n",
    "import employee\n",
    "\n",
    "# Prompt user for producr worker details\n",
    "name = input(\"Please enter the employee name:\")\n",
    "number = input(\"Please enter the employee number:\")\n",
    "shift_number = input(\"Please enter the employee shift number [1 or 2]:\")\n",
    "hourly_pay_rate = input(\"Please enter the employee hourly pay rate:\")\n",
    "\n",
    "production_worker = employee.ProductionWorker(name, number, shift_number, hourly_pay_rate)\n",
    "\n",
    "print(\"You entered employee information:\")\n",
    "print(\"Name:\", production_worker.get_name())\n",
    "print(\"Number:\", production_worker.get_number())\n",
    "if production_worker.get_shift_number() == 1:\n",
    "    print(\"Shift:\", \"Day\")\n",
    "else:\n",
    "    print(\"Shift: \", \"Night\")\n",
    "print(\"Hourly Pay rate:\", \"$\" + production_worker.get_hourly_pay_rate())"
   ]
  }
 ],
 "metadata": {
  "kernelspec": {
   "display_name": "Python 3",
   "language": "python",
   "name": "python3"
  },
  "language_info": {
   "codemirror_mode": {
    "name": "ipython",
    "version": 3
   },
   "file_extension": ".py",
   "mimetype": "text/x-python",
   "name": "python",
   "nbconvert_exporter": "python",
   "pygments_lexer": "ipython3",
   "version": "3.11.3"
  },
  "orig_nbformat": 4
 },
 "nbformat": 4,
 "nbformat_minor": 2
}
