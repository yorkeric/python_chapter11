{
 "cells": [
  {
   "cell_type": "markdown",
   "metadata": {},
   "source": [
    "## Chapter 11\n",
    "### Programming Exercises\n",
    "#### Exercise 1 - Exployee and ProductionWorker Classes"
   ]
  },
  {
   "cell_type": "code",
   "execution_count": 24,
   "metadata": {},
   "outputs": [
    {
     "name": "stdout",
     "output_type": "stream",
     "text": [
      "You entered production worker employee information:\n",
      "Name: Eric York\n",
      "Number: 12345\n",
      "Shift: Night\n",
      "Hourly Pay rate: $25\n"
     ]
    }
   ],
   "source": [
    "# Write an Employee class that keeps attributes and a ProductionWorker class that is a subclass of Employee and keeps specific attributes for that type of worker\n",
    "\n",
    "import employee\n",
    "\n",
    "# Prompt user for production worker name\n",
    "name = input(\"Please enter the employee name:\")\n",
    "# Prompt user for production worker number\n",
    "number = input(\"Please enter the employee number:\")\n",
    "# Prompt user for production worker shift number\n",
    "shift_number = input(\"Please enter the employee shift number [1 or 2]:\")\n",
    "# Prompt user for production worker hourly rate\n",
    "hourly_pay_rate = input(\"Please enter the employee hourly pay rate:\")\n",
    "\n",
    "# Create the producer worker object based off the user input attributes\n",
    "production_worker = employee.ProductionWorker(name, number, shift_number, hourly_pay_rate)\n",
    "\n",
    "# Print the production worker information\n",
    "print(\"You entered production worker employee information:\")\n",
    "# Print the production worker name\n",
    "print(\"Name:\", production_worker.get_name())\n",
    "# Print the production worker number\n",
    "print(\"Number:\", production_worker.get_number())\n",
    "# Print the production worker shift number\n",
    "if production_worker.get_shift_number() == \"1\":\n",
    "    # If the shift number is 1, print Day\n",
    "    print(\"Shift:\", \"Day\")\n",
    "elif production_worker.get_shift_number() == \"2\":\n",
    "    # If the shift number is 2, print Night\n",
    "    print(\"Shift:\", \"Night\")\n",
    "else:\n",
    "    # If the shift number is not 1 or 2, print value\n",
    "    print(\"Shift:\", production_worker.get_shift_number())    \n",
    "# Print the producion worker hourly rate    \n",
    "print(\"Hourly Pay rate:\", \"$\" + production_worker.get_hourly_pay_rate())"
   ]
  }
 ],
 "metadata": {
  "kernelspec": {
   "display_name": "Python 3",
   "language": "python",
   "name": "python3"
  },
  "language_info": {
   "codemirror_mode": {
    "name": "ipython",
    "version": 3
   },
   "file_extension": ".py",
   "mimetype": "text/x-python",
   "name": "python",
   "nbconvert_exporter": "python",
   "pygments_lexer": "ipython3",
   "version": "3.11.3"
  },
  "orig_nbformat": 4
 },
 "nbformat": 4,
 "nbformat_minor": 2
}
