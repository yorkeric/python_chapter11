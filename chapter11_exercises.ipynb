{
 "cells": [
  {
   "cell_type": "markdown",
   "metadata": {},
   "source": [
    "## Chapter 11\n",
    "### Programming Exercises\n",
    "#### Exercise 1 - Exployee and ProductionWorker Classes"
   ]
  },
  {
   "cell_type": "code",
   "execution_count": null,
   "metadata": {},
   "outputs": [],
   "source": [
    "# Write an Employee class that keeps attributes and a ProductionWorker class that is a subclass of Employee and keeps specific attributes for that type of worker\n",
    "\n",
    "import employees\n",
    "\n",
    "# Prompt user for producr worker details\n",
    "name = input(\"Please enter the employee name:\")\n",
    "number = input(\"Please enter the employee number:\")\n",
    "shift_number = input(\"Please enter the employee shift number:\")\n",
    "hourly_pay_rate = input(\"Please enter the employee hourly pay rate:\")\n",
    "\n",
    "production_worker = employees.ProducerWorker(name, number, shift_number, hourly_pay_rate)\n",
    "\n",
    "print(\"You entered:\")\n",
    "print(\"Name: \", production_worker.get_name())"
   ]
  }
 ],
 "metadata": {
  "kernelspec": {
   "display_name": "Python 3",
   "language": "python",
   "name": "python3"
  },
  "language_info": {
   "name": "python",
   "version": "3.11.3"
  },
  "orig_nbformat": 4
 },
 "nbformat": 4,
 "nbformat_minor": 2
}
